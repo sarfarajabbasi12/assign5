{
 "cells": [
  {
   "cell_type": "code",
   "execution_count": 1,
   "id": "41b72eb5-d17a-427f-955d-33cfcb7fd9a0",
   "metadata": {},
   "outputs": [],
   "source": [
    "# Q1.write a program to accept percentage from the user and display the grade according to the foloowing criteria."
   ]
  },
  {
   "cell_type": "code",
   "execution_count": 2,
   "id": "ba855e1c-0410-4192-886a-78ecc659a733",
   "metadata": {},
   "outputs": [
    {
     "name": "stdin",
     "output_type": "stream",
     "text": [
      "Enter your marks 99\n"
     ]
    },
    {
     "name": "stdout",
     "output_type": "stream",
     "text": [
      "Grade A\n"
     ]
    }
   ],
   "source": [
    "marks = int(input('Enter your marks'))\n",
    "if marks > 90 :\n",
    "    print('Grade A')\n",
    "elif marks>80 and marks<90 :\n",
    "    print('Grade B')\n",
    "elif marks >= 60 and marks <=80 :\n",
    "    print('Grade C')\n",
    "else :\n",
    "    print('Grade D')"
   ]
  },
  {
   "cell_type": "code",
   "execution_count": 3,
   "id": "9cb8128c-c2fb-47ce-9488-418f04ea2f7a",
   "metadata": {},
   "outputs": [],
   "source": [
    "# Q2.Write a program to accept the cost price of a bike and display the road tax to be paid according to the following criteria."
   ]
  },
  {
   "cell_type": "code",
   "execution_count": 4,
   "id": "057f263a-6a75-4769-9d4b-c58a02363f0f",
   "metadata": {},
   "outputs": [
    {
     "name": "stdin",
     "output_type": "stream",
     "text": [
      "Enter cost price 500000\n"
     ]
    },
    {
     "name": "stdout",
     "output_type": "stream",
     "text": [
      "15% Tax\n"
     ]
    }
   ],
   "source": [
    "cost_price = int(input('Enter cost price'))\n",
    "if cost_price > 100000 :\n",
    "    print('15% Tax')\n",
    "elif cost_price >= 50000 and cost_price <= 100000 :\n",
    "    print('10% Tax')\n",
    "else :\n",
    "    print('5% Tax')"
   ]
  },
  {
   "cell_type": "code",
   "execution_count": 5,
   "id": "a1eaea6e-867b-4d66-a136-88a661cabd41",
   "metadata": {},
   "outputs": [],
   "source": [
    "#Q3.Accept any city from the user and display monuments of that city."
   ]
  },
  {
   "cell_type": "code",
   "execution_count": 6,
   "id": "80b5f991-47a4-4e52-8db6-12c3f56c9f09",
   "metadata": {},
   "outputs": [
    {
     "name": "stdin",
     "output_type": "stream",
     "text": [
      "Enter city Agra\n"
     ]
    },
    {
     "name": "stdout",
     "output_type": "stream",
     "text": [
      " Taj mahal\n"
     ]
    }
   ],
   "source": [
    "city = input('Enter city')\n",
    "if city == 'Delhi' :\n",
    "    print(' Red Fort')\n",
    "elif city == 'Agra' :\n",
    "    print(' Taj mahal')\n",
    "elif city == 'Jaipur' :\n",
    "    print(' jal mahal')"
   ]
  },
  {
   "cell_type": "code",
   "execution_count": 7,
   "id": "4d6d5553-8589-4290-95ce-3005253be72a",
   "metadata": {},
   "outputs": [],
   "source": [
    "# Q4.check how many times a given number can be divided by 3 before it is less than or equal to 10"
   ]
  },
  {
   "cell_type": "code",
   "execution_count": 8,
   "id": "531c6420-6064-484d-868e-227f7f440493",
   "metadata": {},
   "outputs": [
    {
     "name": "stdin",
     "output_type": "stream",
     "text": [
      "Enter a number 120\n"
     ]
    },
    {
     "name": "stdout",
     "output_type": "stream",
     "text": [
      "1\n",
      "2\n",
      "3\n"
     ]
    }
   ],
   "source": [
    "number = int(input(\"Enter a number\"))\n",
    "for i in range(1, number):\n",
    "    if number <= 10:\n",
    "        break\n",
    "    number /= 3\n",
    "    print(i)"
   ]
  },
  {
   "cell_type": "code",
   "execution_count": 9,
   "id": "5d6825cd-fe8e-41c3-8175-6059b2c15253",
   "metadata": {},
   "outputs": [],
   "source": [
    "#Q5.why and when to use while loop in python give a detailed description with example."
   ]
  },
  {
   "cell_type": "code",
   "execution_count": 10,
   "id": "8c5d1380-cd7e-46b3-9730-5762fe15909d",
   "metadata": {},
   "outputs": [
    {
     "name": "stdout",
     "output_type": "stream",
     "text": [
      "55\n"
     ]
    }
   ],
   "source": [
    "# A while loop in Python is used when you want to repeatedly execute a set of statements as long as a certain condition is true.\n",
    "# example :- When we print the sum of natural number from 1 to 10...\n",
    "a = 1\n",
    "sum = 0\n",
    "while a <= 10 :\n",
    "    sum = sum + a\n",
    "    a = a+1 \n",
    "print(sum)"
   ]
  },
  {
   "cell_type": "code",
   "execution_count": 11,
   "id": "b5a4000c-3003-48bf-9473-9436a30297a8",
   "metadata": {},
   "outputs": [],
   "source": [
    "#Q6. Use nasted while loop to print 3 different pattern."
   ]
  },
  {
   "cell_type": "code",
   "execution_count": 12,
   "id": "450eeb1c-14b8-48c2-a736-80b5d3689b73",
   "metadata": {},
   "outputs": [
    {
     "name": "stdout",
     "output_type": "stream",
     "text": [
      "* \n",
      "* * \n",
      "* * * \n",
      "* * * * \n",
      "* * * * * \n"
     ]
    }
   ],
   "source": [
    "rows = 1\n",
    "while rows <= 5:\n",
    "    columns = 1\n",
    "    while columns <= rows:\n",
    "        print(\"*\", end=\" \")\n",
    "        columns += 1\n",
    "    print()\n",
    "    rows += 1"
   ]
  },
  {
   "cell_type": "code",
   "execution_count": 13,
   "id": "fd1756c1-d5c7-4a01-b436-ee8f61b9e94b",
   "metadata": {},
   "outputs": [
    {
     "name": "stdout",
     "output_type": "stream",
     "text": [
      "*   \n",
      "*   *   \n",
      "*   *   *   \n",
      "*   *   *   *   \n",
      "*   *   *   *   *   \n"
     ]
    }
   ],
   "source": [
    "for rows in range(1, 6):\n",
    "    for columns in range(1,rows+1):\n",
    "        print(\"*\", end='   ')\n",
    "    print()"
   ]
  },
  {
   "cell_type": "code",
   "execution_count": 14,
   "id": "b05ae2c0-d883-49c6-a2c3-00e19bad93ec",
   "metadata": {},
   "outputs": [
    {
     "name": "stdout",
     "output_type": "stream",
     "text": [
      "* * * * * \n",
      "* * * * \n",
      "* * * \n",
      "* * \n",
      "* \n"
     ]
    }
   ],
   "source": [
    "for rows in range(5, 0, -1):\n",
    "    for columns in range(1, rows + 1):\n",
    "        print(\"*\", end=\" \")\n",
    "    print()\n"
   ]
  },
  {
   "cell_type": "code",
   "execution_count": 15,
   "id": "bd200f58-68e6-4a6f-802d-c62da539e1e4",
   "metadata": {},
   "outputs": [],
   "source": [
    "# Reverse a while loop to display numbers from 10 to 1"
   ]
  },
  {
   "cell_type": "code",
   "execution_count": 16,
   "id": "e4b903c7-f75c-4243-9def-a629894f320a",
   "metadata": {},
   "outputs": [
    {
     "name": "stdout",
     "output_type": "stream",
     "text": [
      "10\n",
      "9\n",
      "8\n",
      "7\n",
      "6\n",
      "5\n",
      "4\n",
      "3\n",
      "2\n",
      "1\n"
     ]
    }
   ],
   "source": [
    "a = 10 \n",
    "while a >= 1 :\n",
    "    print(a)\n",
    "    a = a-1"
   ]
  },
  {
   "cell_type": "code",
   "execution_count": null,
   "id": "4b446e01-73ab-4ba4-8c40-b7231966feba",
   "metadata": {},
   "outputs": [],
   "source": []
  }
 ],
 "metadata": {
  "kernelspec": {
   "display_name": "Python 3 (ipykernel)",
   "language": "python",
   "name": "python3"
  },
  "language_info": {
   "codemirror_mode": {
    "name": "ipython",
    "version": 3
   },
   "file_extension": ".py",
   "mimetype": "text/x-python",
   "name": "python",
   "nbconvert_exporter": "python",
   "pygments_lexer": "ipython3",
   "version": "3.10.8"
  }
 },
 "nbformat": 4,
 "nbformat_minor": 5
}
